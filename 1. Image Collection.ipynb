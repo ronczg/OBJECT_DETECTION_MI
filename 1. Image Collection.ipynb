{
 "cells": [
  {
   "cell_type": "markdown",
   "metadata": {},
   "source": [
    "# 1. Import Dependencies"
   ]
  },
  {
   "cell_type": "code",
   "execution_count": 5,
   "metadata": {
    "scrolled": true
   },
   "outputs": [
    {
     "name": "stdout",
     "output_type": "stream",
     "text": [
      "Requirement already satisfied: opencv-python in e:\\ai\\aienv\\lib\\site-packages (4.9.0.80)\n",
      "Requirement already satisfied: numpy>=1.21.2 in e:\\ai\\aienv\\lib\\site-packages (from opencv-python) (1.26.4)\n"
     ]
    }
   ],
   "source": [
    "!pip install opencv-python"
   ]
  },
  {
   "cell_type": "code",
   "execution_count": 7,
   "metadata": {},
   "outputs": [],
   "source": [
    "# Import opencv\n",
    "import cv2 \n",
    "\n",
    "# Import uuid\n",
    "import uuid\n",
    "\n",
    "# Import Operating System\n",
    "import os\n",
    "\n",
    "# Import time\n",
    "import time"
   ]
  },
  {
   "cell_type": "markdown",
   "metadata": {},
   "source": [
    "# 2. Define Images to Collect"
   ]
  },
  {
   "cell_type": "code",
   "execution_count": 8,
   "metadata": {},
   "outputs": [],
   "source": [
    "labels = ['thumbsup', 'thumbsdown', 'thankyou', 'livelong']\n",
    "number_imgs = 5"
   ]
  },
  {
   "cell_type": "markdown",
   "metadata": {},
   "source": [
    "# 3. Setup Folders "
   ]
  },
  {
   "cell_type": "code",
   "execution_count": 9,
   "metadata": {},
   "outputs": [],
   "source": [
    "IMAGES_PATH = os.path.join('Tensorflow', 'workspace', 'images', 'collectedimages')"
   ]
  },
  {
   "cell_type": "code",
   "execution_count": 10,
   "metadata": {},
   "outputs": [],
   "source": [
    "if not os.path.exists(IMAGES_PATH):\n",
    "    if os.name == 'posix':\n",
    "        !mkdir -p {IMAGES_PATH}\n",
    "    if os.name == 'nt':\n",
    "         !mkdir {IMAGES_PATH}\n",
    "for label in labels:\n",
    "    path = os.path.join(IMAGES_PATH, label)\n",
    "    if not os.path.exists(path):\n",
    "        !mkdir {path}"
   ]
  },
  {
   "cell_type": "markdown",
   "metadata": {},
   "source": [
    "# 4. Capture Images"
   ]
  },
  {
   "cell_type": "code",
   "execution_count": 11,
   "metadata": {},
   "outputs": [
    {
     "name": "stdout",
     "output_type": "stream",
     "text": [
      "Collecting images for thumbsup\n",
      "Collecting image 0\n",
      "Collecting image 1\n",
      "Collecting image 2\n",
      "Collecting image 3\n",
      "Collecting image 4\n",
      "Collecting images for thumbsdown\n",
      "Collecting image 0\n",
      "Collecting image 1\n",
      "Collecting image 2\n",
      "Collecting image 3\n",
      "Collecting image 4\n",
      "Collecting images for thankyou\n",
      "Collecting image 0\n",
      "Collecting image 1\n",
      "Collecting image 2\n",
      "Collecting image 3\n",
      "Collecting image 4\n",
      "Collecting images for livelong\n",
      "Collecting image 0\n",
      "Collecting image 1\n",
      "Collecting image 2\n",
      "Collecting image 3\n",
      "Collecting image 4\n"
     ]
    }
   ],
   "source": [
    "for label in labels:\n",
    "    cap = cv2.VideoCapture(0)\n",
    "    print('Collecting images for {}'.format(label))\n",
    "    time.sleep(5)\n",
    "    for imgnum in range(number_imgs):\n",
    "        print('Collecting image {}'.format(imgnum))\n",
    "        ret, frame = cap.read()\n",
    "        imgname = os.path.join(IMAGES_PATH,label,label+'.'+'{}.jpg'.format(str(uuid.uuid1())))\n",
    "        cv2.imwrite(imgname, frame)\n",
    "        cv2.imshow('frame', frame)\n",
    "        time.sleep(2)\n",
    "\n",
    "        if cv2.waitKey(1) & 0xFF == ord('q'):\n",
    "            break\n",
    "cap.release()\n",
    "cv2.destroyAllWindows()"
   ]
  },
  {
   "cell_type": "markdown",
   "metadata": {},
   "source": [
    "# 5. Image Labelling"
   ]
  },
  {
   "cell_type": "code",
   "execution_count": 12,
   "metadata": {},
   "outputs": [
    {
     "name": "stdout",
     "output_type": "stream",
     "text": [
      "Collecting pyqt5\n",
      "  Downloading PyQt5-5.15.10-cp37-abi3-win_amd64.whl.metadata (2.2 kB)\n",
      "Collecting lxml\n",
      "  Downloading lxml-5.1.0-cp311-cp311-win_amd64.whl.metadata (3.6 kB)\n",
      "Collecting PyQt5-sip<13,>=12.13 (from pyqt5)\n",
      "  Downloading PyQt5_sip-12.13.0-cp311-cp311-win_amd64.whl.metadata (524 bytes)\n",
      "Collecting PyQt5-Qt5>=5.15.2 (from pyqt5)\n",
      "  Downloading PyQt5_Qt5-5.15.2-py3-none-win_amd64.whl.metadata (552 bytes)\n",
      "Downloading PyQt5-5.15.10-cp37-abi3-win_amd64.whl (6.8 MB)\n",
      "   ---------------------------------------- 0.0/6.8 MB ? eta -:--:--\n",
      "   ---------------------------------------- 0.0/6.8 MB ? eta -:--:--\n",
      "   ---------------------------------------- 0.1/6.8 MB 1.3 MB/s eta 0:00:06\n",
      "    --------------------------------------- 0.1/6.8 MB 1.4 MB/s eta 0:00:05\n",
      "   - -------------------------------------- 0.2/6.8 MB 1.5 MB/s eta 0:00:05\n",
      "   - -------------------------------------- 0.3/6.8 MB 1.6 MB/s eta 0:00:05\n",
      "   -- ------------------------------------- 0.4/6.8 MB 1.6 MB/s eta 0:00:05\n",
      "   -- ------------------------------------- 0.5/6.8 MB 1.7 MB/s eta 0:00:04\n",
      "   --- ------------------------------------ 0.6/6.8 MB 1.7 MB/s eta 0:00:04\n",
      "   --- ------------------------------------ 0.7/6.8 MB 1.7 MB/s eta 0:00:04\n",
      "   ---- ----------------------------------- 0.8/6.8 MB 1.8 MB/s eta 0:00:04\n",
      "   ----- ---------------------------------- 0.9/6.8 MB 1.8 MB/s eta 0:00:04\n",
      "   ----- ---------------------------------- 1.0/6.8 MB 1.9 MB/s eta 0:00:04\n",
      "   ------ --------------------------------- 1.1/6.8 MB 1.9 MB/s eta 0:00:04\n",
      "   ------- -------------------------------- 1.2/6.8 MB 1.9 MB/s eta 0:00:03\n",
      "   ------- -------------------------------- 1.3/6.8 MB 2.0 MB/s eta 0:00:03\n",
      "   -------- ------------------------------- 1.4/6.8 MB 2.0 MB/s eta 0:00:03\n",
      "   --------- ------------------------------ 1.5/6.8 MB 2.0 MB/s eta 0:00:03\n",
      "   --------- ------------------------------ 1.7/6.8 MB 2.1 MB/s eta 0:00:03\n",
      "   ---------- ----------------------------- 1.8/6.8 MB 2.1 MB/s eta 0:00:03\n",
      "   ----------- ---------------------------- 1.9/6.8 MB 2.2 MB/s eta 0:00:03\n",
      "   ------------ --------------------------- 2.1/6.8 MB 2.2 MB/s eta 0:00:03\n",
      "   ------------ --------------------------- 2.2/6.8 MB 2.2 MB/s eta 0:00:03\n",
      "   ------------- -------------------------- 2.4/6.8 MB 2.3 MB/s eta 0:00:02\n",
      "   -------------- ------------------------- 2.5/6.8 MB 2.3 MB/s eta 0:00:02\n",
      "   --------------- ------------------------ 2.7/6.8 MB 2.4 MB/s eta 0:00:02\n",
      "   ---------------- ----------------------- 2.8/6.8 MB 2.4 MB/s eta 0:00:02\n",
      "   ----------------- ---------------------- 3.0/6.8 MB 2.5 MB/s eta 0:00:02\n",
      "   ------------------ --------------------- 3.1/6.8 MB 2.5 MB/s eta 0:00:02\n",
      "   ------------------- -------------------- 3.3/6.8 MB 2.5 MB/s eta 0:00:02\n",
      "   -------------------- ------------------- 3.5/6.8 MB 2.6 MB/s eta 0:00:02\n",
      "   --------------------- ------------------ 3.6/6.8 MB 2.6 MB/s eta 0:00:02\n",
      "   ---------------------- ----------------- 3.8/6.8 MB 2.6 MB/s eta 0:00:02\n",
      "   ----------------------- ---------------- 4.0/6.8 MB 2.7 MB/s eta 0:00:02\n",
      "   ------------------------ --------------- 4.2/6.8 MB 2.7 MB/s eta 0:00:01\n",
      "   ------------------------- -------------- 4.4/6.8 MB 2.8 MB/s eta 0:00:01\n",
      "   -------------------------- ------------- 4.5/6.8 MB 2.8 MB/s eta 0:00:01\n",
      "   --------------------------- ------------ 4.7/6.8 MB 2.8 MB/s eta 0:00:01\n",
      "   ---------------------------- ----------- 4.9/6.8 MB 2.9 MB/s eta 0:00:01\n",
      "   ------------------------------ --------- 5.1/6.8 MB 2.9 MB/s eta 0:00:01\n",
      "   ------------------------------- -------- 5.3/6.8 MB 2.9 MB/s eta 0:00:01\n",
      "   -------------------------------- ------- 5.6/6.8 MB 3.0 MB/s eta 0:00:01\n",
      "   --------------------------------- ------ 5.8/6.8 MB 3.0 MB/s eta 0:00:01\n",
      "   ---------------------------------- ----- 6.0/6.8 MB 3.1 MB/s eta 0:00:01\n",
      "   ------------------------------------ --- 6.2/6.8 MB 3.1 MB/s eta 0:00:01\n",
      "   ------------------------------------- -- 6.4/6.8 MB 3.1 MB/s eta 0:00:01\n",
      "   -------------------------------------- - 6.6/6.8 MB 3.2 MB/s eta 0:00:01\n",
      "   ---------------------------------------- 6.8/6.8 MB 3.2 MB/s eta 0:00:00\n",
      "Downloading lxml-5.1.0-cp311-cp311-win_amd64.whl (3.9 MB)\n",
      "   ---------------------------------------- 0.0/3.9 MB ? eta -:--:--\n",
      "   -- ------------------------------------- 0.2/3.9 MB 5.0 MB/s eta 0:00:01\n",
      "   ---- ----------------------------------- 0.5/3.9 MB 5.9 MB/s eta 0:00:01\n",
      "   ------- -------------------------------- 0.7/3.9 MB 5.7 MB/s eta 0:00:01\n",
      "   --------- ------------------------------ 1.0/3.9 MB 5.5 MB/s eta 0:00:01\n",
      "   ------------ --------------------------- 1.2/3.9 MB 5.6 MB/s eta 0:00:01\n",
      "   --------------- ------------------------ 1.5/3.9 MB 5.5 MB/s eta 0:00:01\n",
      "   ----------------- ---------------------- 1.7/3.9 MB 5.4 MB/s eta 0:00:01\n",
      "   ------------------- -------------------- 2.0/3.9 MB 5.4 MB/s eta 0:00:01\n",
      "   ---------------------- ----------------- 2.2/3.9 MB 5.4 MB/s eta 0:00:01\n",
      "   ------------------------- -------------- 2.5/3.9 MB 5.4 MB/s eta 0:00:01\n",
      "   --------------------------- ------------ 2.7/3.9 MB 5.4 MB/s eta 0:00:01\n",
      "   ------------------------------ --------- 3.0/3.9 MB 5.4 MB/s eta 0:00:01\n",
      "   --------------------------------- ------ 3.3/3.9 MB 5.5 MB/s eta 0:00:01\n",
      "   ------------------------------------ --- 3.6/3.9 MB 5.5 MB/s eta 0:00:01\n",
      "   -------------------------------------- - 3.8/3.9 MB 5.5 MB/s eta 0:00:01\n",
      "   ---------------------------------------- 3.9/3.9 MB 5.4 MB/s eta 0:00:00\n",
      "Downloading PyQt5_Qt5-5.15.2-py3-none-win_amd64.whl (50.1 MB)\n",
      "   ---------------------------------------- 0.0/50.1 MB ? eta -:--:--\n",
      "   ---------------------------------------- 0.3/50.1 MB 5.9 MB/s eta 0:00:09\n",
      "   ---------------------------------------- 0.6/50.1 MB 6.0 MB/s eta 0:00:09\n",
      "    --------------------------------------- 0.9/50.1 MB 6.1 MB/s eta 0:00:09\n",
      "    --------------------------------------- 1.2/50.1 MB 6.1 MB/s eta 0:00:09\n",
      "   - -------------------------------------- 1.5/50.1 MB 6.2 MB/s eta 0:00:08\n",
      "   - -------------------------------------- 1.8/50.1 MB 6.2 MB/s eta 0:00:08\n",
      "   - -------------------------------------- 2.1/50.1 MB 6.3 MB/s eta 0:00:08\n",
      "   - -------------------------------------- 2.4/50.1 MB 6.3 MB/s eta 0:00:08\n",
      "   -- ------------------------------------- 2.7/50.1 MB 6.3 MB/s eta 0:00:08\n",
      "   -- ------------------------------------- 3.0/50.1 MB 6.4 MB/s eta 0:00:08\n",
      "   -- ------------------------------------- 3.3/50.1 MB 6.4 MB/s eta 0:00:08\n",
      "   -- ------------------------------------- 3.7/50.1 MB 6.5 MB/s eta 0:00:08\n",
      "   --- ------------------------------------ 4.0/50.1 MB 6.6 MB/s eta 0:00:08\n",
      "   --- ------------------------------------ 4.3/50.1 MB 6.6 MB/s eta 0:00:07\n",
      "   --- ------------------------------------ 4.7/50.1 MB 6.6 MB/s eta 0:00:07\n",
      "   --- ------------------------------------ 5.0/50.1 MB 6.6 MB/s eta 0:00:07\n",
      "   ---- ----------------------------------- 5.3/50.1 MB 6.7 MB/s eta 0:00:07\n",
      "   ---- ----------------------------------- 5.7/50.1 MB 6.7 MB/s eta 0:00:07\n",
      "   ---- ----------------------------------- 6.0/50.1 MB 6.7 MB/s eta 0:00:07\n",
      "   ----- ---------------------------------- 6.4/50.1 MB 6.8 MB/s eta 0:00:07\n",
      "   ----- ---------------------------------- 6.7/50.1 MB 6.8 MB/s eta 0:00:07\n",
      "   ----- ---------------------------------- 7.1/50.1 MB 6.9 MB/s eta 0:00:07\n",
      "   ----- ---------------------------------- 7.5/50.1 MB 6.9 MB/s eta 0:00:07\n",
      "   ------ --------------------------------- 7.8/50.1 MB 6.9 MB/s eta 0:00:07\n",
      "   ------ --------------------------------- 8.2/50.1 MB 7.1 MB/s eta 0:00:06\n",
      "   ------ --------------------------------- 8.6/50.1 MB 7.0 MB/s eta 0:00:06\n",
      "   ------- -------------------------------- 8.9/50.1 MB 7.1 MB/s eta 0:00:06\n",
      "   ------- -------------------------------- 9.3/50.1 MB 7.2 MB/s eta 0:00:06\n",
      "   ------- -------------------------------- 9.7/50.1 MB 7.2 MB/s eta 0:00:06\n",
      "   -------- ------------------------------- 10.1/50.1 MB 7.2 MB/s eta 0:00:06\n",
      "   -------- ------------------------------- 10.5/50.1 MB 7.4 MB/s eta 0:00:06\n",
      "   -------- ------------------------------- 10.9/50.1 MB 7.4 MB/s eta 0:00:06\n",
      "   --------- ------------------------------ 11.3/50.1 MB 7.5 MB/s eta 0:00:06\n",
      "   --------- ------------------------------ 11.7/50.1 MB 7.6 MB/s eta 0:00:06\n",
      "   --------- ------------------------------ 12.1/50.1 MB 7.7 MB/s eta 0:00:05\n",
      "   ---------- ----------------------------- 12.5/50.1 MB 7.8 MB/s eta 0:00:05\n",
      "   ---------- ----------------------------- 12.9/50.1 MB 7.9 MB/s eta 0:00:05\n",
      "   ---------- ----------------------------- 13.4/50.1 MB 8.0 MB/s eta 0:00:05\n",
      "   ----------- ---------------------------- 13.8/50.1 MB 8.1 MB/s eta 0:00:05\n",
      "   ----------- ---------------------------- 14.2/50.1 MB 8.2 MB/s eta 0:00:05\n",
      "   ----------- ---------------------------- 14.6/50.1 MB 8.2 MB/s eta 0:00:05\n",
      "   ----------- ---------------------------- 15.0/50.1 MB 8.3 MB/s eta 0:00:05\n",
      "   ------------ --------------------------- 15.5/50.1 MB 8.4 MB/s eta 0:00:05\n",
      "   ------------ --------------------------- 15.9/50.1 MB 8.5 MB/s eta 0:00:05\n",
      "   ------------- -------------------------- 16.3/50.1 MB 8.5 MB/s eta 0:00:04\n",
      "   ------------- -------------------------- 16.7/50.1 MB 8.6 MB/s eta 0:00:04\n",
      "   ------------- -------------------------- 17.2/50.1 MB 8.7 MB/s eta 0:00:04\n",
      "   -------------- ------------------------- 17.6/50.1 MB 8.7 MB/s eta 0:00:04\n",
      "   -------------- ------------------------- 18.1/50.1 MB 8.8 MB/s eta 0:00:04\n",
      "   -------------- ------------------------- 18.6/50.1 MB 9.0 MB/s eta 0:00:04\n",
      "   --------------- ------------------------ 19.1/50.1 MB 9.1 MB/s eta 0:00:04\n",
      "   --------------- ------------------------ 19.6/50.1 MB 9.2 MB/s eta 0:00:04\n",
      "   ---------------- ----------------------- 20.1/50.1 MB 9.2 MB/s eta 0:00:04\n",
      "   ---------------- ----------------------- 20.6/50.1 MB 9.4 MB/s eta 0:00:04\n",
      "   ---------------- ----------------------- 21.0/50.1 MB 9.5 MB/s eta 0:00:04\n",
      "   ----------------- ---------------------- 21.5/50.1 MB 9.5 MB/s eta 0:00:04\n",
      "   ----------------- ---------------------- 22.0/50.1 MB 9.6 MB/s eta 0:00:03\n",
      "   ----------------- ---------------------- 22.5/50.1 MB 9.8 MB/s eta 0:00:03\n",
      "   ------------------ --------------------- 23.0/50.1 MB 9.8 MB/s eta 0:00:03\n",
      "   ------------------ --------------------- 23.4/50.1 MB 9.8 MB/s eta 0:00:03\n",
      "   ------------------- -------------------- 23.9/50.1 MB 9.8 MB/s eta 0:00:03\n",
      "   ------------------- -------------------- 24.2/50.1 MB 9.8 MB/s eta 0:00:03\n",
      "   ------------------- -------------------- 24.5/50.1 MB 9.6 MB/s eta 0:00:03\n",
      "   ------------------- -------------------- 25.0/50.1 MB 9.8 MB/s eta 0:00:03\n",
      "   -------------------- ------------------- 25.5/50.1 MB 9.8 MB/s eta 0:00:03\n",
      "   -------------------- ------------------- 26.0/50.1 MB 9.8 MB/s eta 0:00:03\n",
      "   --------------------- ------------------ 26.6/50.1 MB 9.9 MB/s eta 0:00:03\n",
      "   --------------------- ------------------ 27.1/50.1 MB 10.1 MB/s eta 0:00:03\n",
      "   ---------------------- ----------------- 27.6/50.1 MB 10.1 MB/s eta 0:00:03\n",
      "   ---------------------- ----------------- 28.1/50.1 MB 10.2 MB/s eta 0:00:03\n",
      "   ---------------------- ----------------- 28.7/50.1 MB 10.2 MB/s eta 0:00:03\n",
      "   ----------------------- ---------------- 29.2/50.1 MB 10.2 MB/s eta 0:00:03\n",
      "   ----------------------- ---------------- 29.7/50.1 MB 10.2 MB/s eta 0:00:02\n",
      "   ------------------------ --------------- 30.2/50.1 MB 10.4 MB/s eta 0:00:02\n",
      "   ------------------------ --------------- 30.7/50.1 MB 10.6 MB/s eta 0:00:02\n",
      "   ------------------------- -------------- 31.3/50.1 MB 10.7 MB/s eta 0:00:02\n",
      "   ------------------------- -------------- 31.9/50.1 MB 10.7 MB/s eta 0:00:02\n",
      "   ------------------------- -------------- 32.4/50.1 MB 10.7 MB/s eta 0:00:02\n",
      "   -------------------------- ------------- 33.0/50.1 MB 10.7 MB/s eta 0:00:02\n",
      "   -------------------------- ------------- 33.5/50.1 MB 10.9 MB/s eta 0:00:02\n",
      "   --------------------------- ------------ 34.1/50.1 MB 11.1 MB/s eta 0:00:02\n",
      "   --------------------------- ------------ 34.6/50.1 MB 11.5 MB/s eta 0:00:02\n",
      "   ---------------------------- ----------- 35.2/50.1 MB 11.5 MB/s eta 0:00:02\n",
      "   ---------------------------- ----------- 35.7/50.1 MB 11.5 MB/s eta 0:00:02\n",
      "   ---------------------------- ----------- 36.3/50.1 MB 11.7 MB/s eta 0:00:02\n",
      "   ----------------------------- ---------- 36.9/50.1 MB 11.7 MB/s eta 0:00:02\n",
      "   ----------------------------- ---------- 37.5/50.1 MB 11.9 MB/s eta 0:00:02\n",
      "   ------------------------------ --------- 38.1/50.1 MB 11.9 MB/s eta 0:00:02\n",
      "   ------------------------------ --------- 38.7/50.1 MB 12.1 MB/s eta 0:00:01\n",
      "   ------------------------------- -------- 39.3/50.1 MB 12.1 MB/s eta 0:00:01\n",
      "   ------------------------------- -------- 39.9/50.1 MB 12.1 MB/s eta 0:00:01\n",
      "   -------------------------------- ------- 40.4/50.1 MB 12.4 MB/s eta 0:00:01\n",
      "   -------------------------------- ------- 41.0/50.1 MB 12.3 MB/s eta 0:00:01\n",
      "   --------------------------------- ------ 41.6/50.1 MB 12.4 MB/s eta 0:00:01\n",
      "   --------------------------------- ------ 42.2/50.1 MB 12.4 MB/s eta 0:00:01\n",
      "   ---------------------------------- ----- 42.8/50.1 MB 12.4 MB/s eta 0:00:01\n",
      "   ---------------------------------- ----- 43.4/50.1 MB 12.6 MB/s eta 0:00:01\n",
      "   ----------------------------------- ---- 44.0/50.1 MB 12.6 MB/s eta 0:00:01\n",
      "   ----------------------------------- ---- 44.6/50.1 MB 12.6 MB/s eta 0:00:01\n",
      "   ------------------------------------ --- 45.2/50.1 MB 12.8 MB/s eta 0:00:01\n",
      "   ------------------------------------ --- 45.9/50.1 MB 12.8 MB/s eta 0:00:01\n",
      "   ------------------------------------- -- 46.5/50.1 MB 12.9 MB/s eta 0:00:01\n",
      "   ------------------------------------- -- 47.1/50.1 MB 12.8 MB/s eta 0:00:01\n",
      "   -------------------------------------- - 47.8/50.1 MB 13.1 MB/s eta 0:00:01\n",
      "   -------------------------------------- - 48.4/50.1 MB 13.1 MB/s eta 0:00:01\n",
      "   ---------------------------------------  49.1/50.1 MB 13.1 MB/s eta 0:00:01\n",
      "   ---------------------------------------  49.7/50.1 MB 13.1 MB/s eta 0:00:01\n",
      "   ---------------------------------------  50.1/50.1 MB 13.4 MB/s eta 0:00:01\n",
      "   ---------------------------------------  50.1/50.1 MB 13.4 MB/s eta 0:00:01\n",
      "   ---------------------------------------  50.1/50.1 MB 13.4 MB/s eta 0:00:01\n",
      "   ---------------------------------------  50.1/50.1 MB 13.4 MB/s eta 0:00:01\n",
      "   ---------------------------------------  50.1/50.1 MB 13.4 MB/s eta 0:00:01\n",
      "   ---------------------------------------  50.1/50.1 MB 13.4 MB/s eta 0:00:01\n",
      "   ---------------------------------------  50.1/50.1 MB 13.4 MB/s eta 0:00:01\n",
      "   ---------------------------------------- 50.1/50.1 MB 9.5 MB/s eta 0:00:00\n",
      "Downloading PyQt5_sip-12.13.0-cp311-cp311-win_amd64.whl (78 kB)\n",
      "   ---------------------------------------- 0.0/78.5 kB ? eta -:--:--\n",
      "   ---------------------------------------- 78.5/78.5 kB ? eta 0:00:00\n",
      "Installing collected packages: PyQt5-Qt5, PyQt5-sip, lxml, pyqt5\n",
      "Successfully installed PyQt5-Qt5-5.15.2 PyQt5-sip-12.13.0 lxml-5.1.0 pyqt5-5.15.10\n"
     ]
    }
   ],
   "source": [
    "!pip install --upgrade pyqt5 lxml"
   ]
  },
  {
   "cell_type": "code",
   "execution_count": 13,
   "metadata": {},
   "outputs": [],
   "source": [
    "LABELIMG_PATH = os.path.join('Tensorflow', 'labelimg')"
   ]
  },
  {
   "cell_type": "code",
   "execution_count": 14,
   "metadata": {},
   "outputs": [
    {
     "name": "stderr",
     "output_type": "stream",
     "text": [
      "Cloning into 'Tensorflow\\labelimg'...\n"
     ]
    }
   ],
   "source": [
    "if not os.path.exists(LABELIMG_PATH):\n",
    "    !mkdir {LABELIMG_PATH}\n",
    "    !git clone https://github.com/tzutalin/labelImg {LABELIMG_PATH}"
   ]
  },
  {
   "cell_type": "code",
   "execution_count": 17,
   "metadata": {},
   "outputs": [],
   "source": [
    "if os.name == 'posix':\n",
    "    !make qt5py3\n",
    "if os.name =='nt':\n",
    "    !cd {LABELIMG_PATH} && pyrcc5 -o libs/resources.py resources.qrc"
   ]
  },
  {
   "cell_type": "code",
   "execution_count": 18,
   "metadata": {
    "scrolled": true
   },
   "outputs": [
    {
     "name": "stdout",
     "output_type": "stream",
     "text": [
      "Image:E:\\AI\\Tensorflow\\workspace\\images\\collectedimages\\livelong\\livelong.3bf8361e-dc7b-11ee-b14e-d45d64d4852a.jpg -> Annotation:E:/AI/Tensorflow/workspace/images/collectedimages/livelong\\livelong.3bf8361e-dc7b-11ee-b14e-d45d64d4852a.xml\n",
      "Image:E:\\AI\\Tensorflow\\workspace\\images\\collectedimages\\livelong\\livelong.3d2bada1-dc7b-11ee-bcbc-d45d64d4852a.jpg -> Annotation:E:/AI/Tensorflow/workspace/images/collectedimages/livelong\\livelong.3d2bada1-dc7b-11ee-bcbc-d45d64d4852a.xml\n",
      "Image:E:\\AI\\Tensorflow\\workspace\\images\\collectedimages\\livelong\\livelong.3e6153e7-dc7b-11ee-bdde-d45d64d4852a.jpg -> Annotation:E:/AI/Tensorflow/workspace/images/collectedimages/livelong\\livelong.3e6153e7-dc7b-11ee-bdde-d45d64d4852a.xml\n",
      "Image:E:\\AI\\Tensorflow\\workspace\\images\\collectedimages\\livelong\\livelong.40cc7263-dc7b-11ee-a1d5-d45d64d4852a.jpg -> Annotation:E:/AI/Tensorflow/workspace/images/collectedimages/livelong\\livelong.40cc7263-dc7b-11ee-a1d5-d45d64d4852a.xml\n",
      "Image:E:\\AI\\Tensorflow\\workspace\\images\\collectedimages\\thankyou\\thankyou.32dcce24-dc7b-11ee-af78-d45d64d4852a.jpg -> Annotation:E:/AI/Tensorflow/workspace/images/collectedimages/thankyou\\thankyou.32dcce24-dc7b-11ee-af78-d45d64d4852a.xml\n",
      "Image:E:\\AI\\Tensorflow\\workspace\\images\\collectedimages\\thankyou\\thankyou.37af4963-dc7b-11ee-b22c-d45d64d4852a.jpg -> Annotation:E:/AI/Tensorflow/workspace/images/collectedimages/thankyou\\thankyou.37af4963-dc7b-11ee-b22c-d45d64d4852a.xml\n",
      "Image:E:\\AI\\Tensorflow\\workspace\\images\\collectedimages\\thankyou\\thankyou.367b3d87-dc7b-11ee-a87c-d45d64d4852a.jpg -> Annotation:E:/AI/Tensorflow/workspace/images/collectedimages/thankyou\\thankyou.367b3d87-dc7b-11ee-a87c-d45d64d4852a.xml\n",
      "Image:E:\\AI\\Tensorflow\\workspace\\images\\collectedimages\\thankyou\\thankyou.34109c95-dc7b-11ee-afc9-d45d64d4852a.jpg -> Annotation:E:/AI/Tensorflow/workspace/images/collectedimages/thankyou\\thankyou.34109c95-dc7b-11ee-afc9-d45d64d4852a.xml\n",
      "Image:E:\\AI\\Tensorflow\\workspace\\images\\collectedimages\\thankyou\\thankyou.35454df8-dc7b-11ee-a0ad-d45d64d4852a.jpg -> Annotation:E:/AI/Tensorflow/workspace/images/collectedimages/thankyou\\thankyou.35454df8-dc7b-11ee-a0ad-d45d64d4852a.xml\n",
      "Image:E:\\AI\\Tensorflow\\workspace\\images\\collectedimages\\thumbsdown\\thumbsdown.2aeb49f4-dc7b-11ee-9cbb-d45d64d4852a.jpg -> Annotation:E:/AI/Tensorflow/workspace/images/collectedimages/thumbsdown\\thumbsdown.2aeb49f4-dc7b-11ee-9cbb-d45d64d4852a.xml\n",
      "Image:E:\\AI\\Tensorflow\\workspace\\images\\collectedimages\\thumbsdown\\thumbsdown.2c20e58a-dc7b-11ee-8c5f-d45d64d4852a.jpg -> Annotation:E:/AI/Tensorflow/workspace/images/collectedimages/thumbsdown\\thumbsdown.2c20e58a-dc7b-11ee-8c5f-d45d64d4852a.xml\n",
      "Image:E:\\AI\\Tensorflow\\workspace\\images\\collectedimages\\thumbsdown\\thumbsdown.2d5679d6-dc7b-11ee-b643-d45d64d4852a.jpg -> Annotation:E:/AI/Tensorflow/workspace/images/collectedimages/thumbsdown\\thumbsdown.2d5679d6-dc7b-11ee-b643-d45d64d4852a.xml\n",
      "Image:E:\\AI\\Tensorflow\\workspace\\images\\collectedimages\\thumbsdown\\thumbsdown.2e8abb91-dc7b-11ee-b36c-d45d64d4852a.jpg -> Annotation:E:/AI/Tensorflow/workspace/images/collectedimages/thumbsdown\\thumbsdown.2e8abb91-dc7b-11ee-b36c-d45d64d4852a.xml\n",
      "Image:E:\\AI\\Tensorflow\\workspace\\images\\collectedimages\\thumbsdown\\thumbsdown.29b603ea-dc7b-11ee-a628-d45d64d4852a.jpg -> Annotation:E:/AI/Tensorflow/workspace/images/collectedimages/thumbsdown\\thumbsdown.29b603ea-dc7b-11ee-a628-d45d64d4852a.xml\n",
      "Image:E:\\AI\\Tensorflow\\workspace\\images\\collectedimages\\thumbsup\\thumbsup.21cee143-dc7b-11ee-ad58-d45d64d4852a.jpg -> Annotation:E:/AI/Tensorflow/workspace/images/collectedimages/thumbsup\\thumbsup.21cee143-dc7b-11ee-ad58-d45d64d4852a.xml\n",
      "Image:E:\\AI\\Tensorflow\\workspace\\images\\collectedimages\\thumbsup\\thumbsup.256c6500-dc7b-11ee-baed-d45d64d4852a.jpg -> Annotation:E:/AI/Tensorflow/workspace/images/collectedimages/thumbsup\\thumbsup.256c6500-dc7b-11ee-baed-d45d64d4852a.xml\n",
      "Image:E:\\AI\\Tensorflow\\workspace\\images\\collectedimages\\thumbsup\\thumbsup.2437eb02-dc7b-11ee-b88c-d45d64d4852a.jpg -> Annotation:E:/AI/Tensorflow/workspace/images/collectedimages/thumbsup\\thumbsup.2437eb02-dc7b-11ee-b88c-d45d64d4852a.xml\n",
      "Image:E:\\AI\\Tensorflow\\workspace\\images\\collectedimages\\thumbsup\\thumbsup.230373c8-dc7b-11ee-a387-d45d64d4852a.jpg -> Annotation:E:/AI/Tensorflow/workspace/images/collectedimages/thumbsup\\thumbsup.230373c8-dc7b-11ee-a387-d45d64d4852a.xml\n"
     ]
    },
    {
     "name": "stderr",
     "output_type": "stream",
     "text": [
      "Warning: QT_DEVICE_PIXEL_RATIO is deprecated. Instead use:\n",
      "   QT_AUTO_SCREEN_SCALE_FACTOR to enable platform plugin controlled per-screen factors.\n",
      "   QT_SCREEN_SCALE_FACTORS to set per-screen DPI.\n",
      "   QT_SCALE_FACTOR to set the application global scale factor.\n"
     ]
    }
   ],
   "source": [
    "!cd {LABELIMG_PATH} && python labelImg.py"
   ]
  },
  {
   "cell_type": "markdown",
   "metadata": {},
   "source": [
    "# 6. Move them into a Training and Testing Partition"
   ]
  },
  {
   "cell_type": "markdown",
   "metadata": {},
   "source": [
    "# OPTIONAL - 7. Compress them for Colab Training"
   ]
  },
  {
   "cell_type": "code",
   "execution_count": 20,
   "metadata": {},
   "outputs": [],
   "source": [
    "TRAIN_PATH = os.path.join('Tensorflow', 'workspace', 'images', 'train')\n",
    "TEST_PATH = os.path.join('Tensorflow', 'workspace', 'images', 'test')\n",
    "ARCHIVE_PATH = os.path.join('Tensorflow', 'workspace', 'images', 'archive.tar.gz')"
   ]
  },
  {
   "cell_type": "code",
   "execution_count": 21,
   "metadata": {},
   "outputs": [],
   "source": [
    "!tar -czf {ARCHIVE_PATH} {TRAIN_PATH} {TEST_PATH}"
   ]
  },
  {
   "cell_type": "code",
   "execution_count": null,
   "metadata": {},
   "outputs": [],
   "source": []
  }
 ],
 "metadata": {
  "kernelspec": {
   "display_name": "AIENV",
   "language": "python",
   "name": "aienv"
  },
  "language_info": {
   "codemirror_mode": {
    "name": "ipython",
    "version": 3
   },
   "file_extension": ".py",
   "mimetype": "text/x-python",
   "name": "python",
   "nbconvert_exporter": "python",
   "pygments_lexer": "ipython3",
   "version": "3.11.8"
  }
 },
 "nbformat": 4,
 "nbformat_minor": 4
}
